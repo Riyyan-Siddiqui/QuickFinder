{
 "cells": [
  {
   "cell_type": "code",
   "execution_count": 361,
   "id": "471141ff-ee52-4ab9-92c5-15924c2a1533",
   "metadata": {},
   "outputs": [
    {
     "name": "stdout",
     "output_type": "stream",
     "text": [
      "Requirement already satisfied: bs4 in c:\\users\\riyya\\anaconda3\\lib\\site-packages (0.0.2)Note: you may need to restart the kernel to use updated packages.\n",
      "\n",
      "Requirement already satisfied: beautifulsoup4 in c:\\users\\riyya\\anaconda3\\lib\\site-packages (from bs4) (4.12.3)\n",
      "Requirement already satisfied: soupsieve>1.2 in c:\\users\\riyya\\anaconda3\\lib\\site-packages (from beautifulsoup4->bs4) (2.5)\n"
     ]
    }
   ],
   "source": [
    "pip install bs4"
   ]
  },
  {
   "cell_type": "code",
   "execution_count": 362,
   "id": "00b8618e-a678-4157-b6e5-478bfa6c1ad4",
   "metadata": {},
   "outputs": [],
   "source": [
    "from bs4 import BeautifulSoup\n",
    "import requests"
   ]
  },
  {
   "cell_type": "code",
   "execution_count": 363,
   "id": "376a68ce-de87-4e95-90e4-d38993be1ffd",
   "metadata": {},
   "outputs": [
    {
     "data": {
      "text/plain": [
       "<Response [200]>"
      ]
     },
     "execution_count": 363,
     "metadata": {},
     "output_type": "execute_result"
    }
   ],
   "source": [
    "url = \"https://www.galaxy.pk/more/graphic-cards\"\n",
    "request = requests.get(url)\n",
    "request"
   ]
  },
  {
   "cell_type": "code",
   "execution_count": null,
   "id": "7be209b4-1700-44ed-b9f3-967e8529711e",
   "metadata": {},
   "outputs": [],
   "source": [
    "# request.content"
   ]
  },
  {
   "cell_type": "code",
   "execution_count": 364,
   "id": "f49922f3-920e-41f2-9724-a2f677ab4371",
   "metadata": {},
   "outputs": [],
   "source": [
    "soup = BeautifulSoup(request.content, 'html.parser')\n",
    "# soup"
   ]
  },
  {
   "cell_type": "code",
   "execution_count": 367,
   "id": "4614a004-6c64-4d48-8f84-4390e3c1f017",
   "metadata": {},
   "outputs": [
    {
     "data": {
      "text/plain": [
       "[{'title': 'Ninja Nvidia GeForce GT 730 4GB',\n",
       "  'price': 'Rs. 18,000',\n",
       "  'model': None,\n",
       "  'features': ['1333 MHZ Memory Clock | 4 GB Memory ConfigDDR3 Memory Interface128-bit Memory Interface Width | 28 Memory Bandwidth (GB/sec)']},\n",
       " {'title': 'EASE E730 GeForce GT730 4GB GDDR5',\n",
       "  'price': 'Rs. 21,000',\n",
       "  'model': None,\n",
       "  'features': ['Features HDMI, DVI, and VGA outputs for flexible connectivity to monitors and TVs',\n",
       "   'Compatibility: Compatible with a wide range of systems, including small form factor PCs and older systems needing a graphics boost']},\n",
       " {'title': 'EASE E740 GeForce GT740 4GB GDDR5',\n",
       "  'price': 'Rs. 22,000',\n",
       "  'model': None,\n",
       "  'features': ['Features HDMI, DVI, and VGA outputs for flexible connectivity to monitors and TVs',\n",
       "   'Compatibility: Compatible with a wide range of systems, including small form factor PCs and older systems needing a graphics boost']},\n",
       " {'title': 'EASE E580 AMD Redeon RX580 8GB GDDR5 ',\n",
       "  'price': 'Rs. 34,000',\n",
       "  'model': None,\n",
       "  'features': ['High-Speed Memory: Enjoy lightning-fast data processing with high-speed memory',\n",
       "   'Efficient Cooling: Stay cool during intense gaming sessions',\n",
       "   'Versatile Connectivity: Connect easily to various displays and monitors',\n",
       "   'Sleek Design: Enhance your PC’s aesthetics with its stylish design']},\n",
       " {'title': 'Asus AMD VGA PH-RX550-4G-EVO ',\n",
       "  'price': 'Rs. 44,500',\n",
       "  'model': None,\n",
       "  'features': ['Graphic Engine',\n",
       "   'AMD Radeon RX 550',\n",
       "   'Bus Standard',\n",
       "   'PCI Express 3',\n",
       "   '0',\n",
       "   'OpenGL',\n",
       "   'OpenGL®4',\n",
       "   '5',\n",
       "   'Video Memory',\n",
       "   '4GB GDDR5',\n",
       "   'Engine Clock',\n",
       "   '1183 MHzStream Processors',\n",
       "   '512']},\n",
       " {'title': 'Inno3D GeForce GTX 1650 GDDR6 4GB TWIN X2 OC',\n",
       "  'price': 'Rs. 59,000',\n",
       "  'model': None,\n",
       "  'features': ['CUDA Cores 896Boost Clock 1620 MHz (+2%)4GB GDDR6 128 bit | PCI-E 3',\n",
       "   '0 X16']},\n",
       " {'title': 'EASE E305e GeForce RTX 3050 6GB DDR6',\n",
       "  'price': 'Rs. 60,000',\n",
       "  'model': None,\n",
       "  'features': ['Powered by GeForce RTX™ 3050NVIDIA Ampere Streaming Multiprocessors1755 MHz (Reference Card: 1755 MHz)2nd Generation RT Cores3rd Generation Tensor CoresEnhanced Dual Cooling SystemProtection back plateCORE CLOCK']},\n",
       " {'title': 'ZOTAC GAMING GeForce RTX 3050 6GB 96BIT Twin Edge GDDR6',\n",
       "  'price': 'Rs. 66,000',\n",
       "  'model': None,\n",
       "  'features': ['GDDR6 Graphics Memory2nd Gen Ray Tracing Cores3rd Gen Tensor Cores PCIe Bus PoweredCompact Form FactorFits in 99% of PC buildsFREEZE Fan Stop']},\n",
       " {'title': 'Gigabyte Radeon RX6500XT 4GB Gaming GDDR6 Rev 1.0 GV-R65XTGAMING OC-4GD',\n",
       "  'price': 'Rs. 67,500',\n",
       "  'model': None,\n",
       "  'features': ['WINDFORCE 2X cooling system Stream Processors 1024 | Boost Clock* : up to 2815 MHz4 GB GDDR6 64 bit | PCI-E 4',\n",
       "   '0']},\n",
       " {'title': 'EASE E305 GeForce RTX 3050 8G DDR6',\n",
       "  'price': 'Rs. 74,000',\n",
       "  'model': None,\n",
       "  'features': ['NVIDIA Ampere Streaming Multiprocessors |2nd Generation RT Cores3rd Generation Tensor Cores | Integrated with 8GB GDDR6 128-bit memory interfaceWINDFORCE Cooling System | Protection back plate']},\n",
       " {'title': 'ZOTAC GAMING GeForce RTX 3050 8GB 128BIT Twin Edge GDDR6',\n",
       "  'price': 'Rs. 75,000',\n",
       "  'model': None,\n",
       "  'features': ['GDDR6 Graphics Memory2nd Gen Ray Tracing Cores3rd Gen Tensor Cores IceStorm 2',\n",
       "   '0 Advanced CoolingActive Fan Control with FREEZE Fan StopMetal Backplate']},\n",
       " {'title': 'ASUS Dual GeForce RTX™ 3050 V2 OC Edition 8GB GDDR6',\n",
       "  'price': 'Rs. 80,000',\n",
       "  'model': None,\n",
       "  'features': ['NVIDIA Ampere Streaming Multiprocessors2nd Generation RT Cores3rd Generation Tensor Cores']},\n",
       " {'title': 'Inno3D GeForce RTX 3050 GDDR6 8GB TWIN X2 OC',\n",
       "  'price': 'Rs. 96,500',\n",
       "  'model': None,\n",
       "  'features': ['Core Clock : 1822 MHz | CUDA Cores 2560| Memory Type GDDR6Memory Clock 14 Gbps | Memory Bus 128 bitHDMI 2',\n",
       "   '0b |  2x DisplayPort 1',\n",
       "   '4']},\n",
       " {'title': 'ZOTAC Gaming GeForce RTX 4060 8GB Twin Edge',\n",
       "  'price': 'Rs. 101,000',\n",
       "  'model': None,\n",
       "  'features': ['Powered by NVIDIA DLSS 3, |  ultra-efficient Ada Lovelace arch | Full ray tracingCompact design with 2 Slot footprint |  Metal Backplate Freeze Fan Stop | 221',\n",
       "   '4 mm / 8',\n",
       "   '7 in length- 8-pin PCIe power connector | All-new FireStorm Utility']},\n",
       " {'title': 'MSI GeForce RTX 4060 Ti VENTUS 2X BLACK 8G OC',\n",
       "  'price': 'Rs. 152,000',\n",
       "  'model': None,\n",
       "  'features': ['Experience immersive | AI-accelerated gaming with ray tracing and DLSS 3Boost Clock: 2490 MHz | Dual Fan Thermal DesignReinforcing Backplate']},\n",
       " {'title': 'MSI Nvidia GeForce RTX 4060Ti Gaming X Trio 8G',\n",
       "  'price': 'Rs. 153,000',\n",
       "  'model': None,\n",
       "  'features': ['Experience immersive, AI-accelerated gaming with ray tracing and DLSS 3, Boost Clock: 2670 MHzTRI FROZR 3 Thermal Design | Afterburner Software']},\n",
       " {'title': 'ZOTAC GAMING GeForce RTX 4060Ti 16GB AMP 128Bit GDDR6',\n",
       "  'price': 'Rs. 160,000',\n",
       "  'model': None,\n",
       "  'features': ['Powered by NVIDIA DLSS 3IceStorm 2',\n",
       "   '0 Advanced CoolingCompact 2',\n",
       "   '2 Slot FootprintStrong Factory Overclock']},\n",
       " {'title': 'MSI GeForce RTX 4060 Ti VENTUS 3X 8G OC',\n",
       "  'price': 'Rs. 162,000',\n",
       "  'model': None,\n",
       "  'features': ['Experience immersive | AI-accelerated gaming with ray tracing and DLSS 3Boost Clock: 2565 MHzTriple Fan Thermal Design']},\n",
       " {'title': 'MSI GeForce RTX 4070 VENTUS 2X 12G OC',\n",
       "  'price': 'Rs. 222,000',\n",
       "  'model': None,\n",
       "  'features': ['A sharp-looking updated design with TORX FAN 4',\n",
       "   '0 PCI Express® Gen 4 - CUDA® CORES 5888 UnitsExtreme Performance: 2520 MHz (MSI Center) | Boost: 2505 MHz12GB GDDR6X 192-bit | Memory Speed 21 Gbps']},\n",
       " {'title': 'ZOTAC GAMING GeForce RTX 5070 12GB 192BIT SOLID OC',\n",
       "  'price': 'Rs. 258,000',\n",
       "  'model': None,\n",
       "  'features': ['Powered by the NVIDIA Blackwell architecture and DLSS 4NVIDIA SFF-Ready Enthusiast GeForce CardIceStorm 2',\n",
       "   '0 Cooling']}]"
      ]
     },
     "execution_count": 367,
     "metadata": {},
     "output_type": "execute_result"
    }
   ],
   "source": [
    "import re\n",
    "import csv\n",
    "import os\n",
    "from bs4 import BeautifulSoup\n",
    "\n",
    "# Assume soup is already defined\n",
    "graphicCards = soup.find_all(class_='item col-sm-12 col-lg-12 col-md-12 col-xs-12 list-view')\n",
    "\n",
    "# Helper function to extract features from text\n",
    "def Features(txt):\n",
    "    startFeatures = txt.find(\"Features\")\n",
    "    endFeatures = txt.find(\"\\n\")\n",
    "    startFeatures = 0 if startFeatures == -1 else startFeatures\n",
    "    \n",
    "    if startFeatures != -1 and endFeatures != -1:\n",
    "        features_text = txt[startFeatures : endFeatures].strip()\n",
    "        return [f.strip() for f in features_text.split('.') if f.strip()]\n",
    "    return []\n",
    "\n",
    "# Collect GPU data\n",
    "data = []\n",
    "\n",
    "for card in graphicCards:\n",
    "    card_obj = card.text.strip().split('\\n\\n\\n')\n",
    "    title = card_obj[0]\n",
    "    remainingData = card_obj[1]\n",
    "    price = remainingData.split('\\n')[-1]\n",
    "    model = None  # Placeholder (you can add extraction logic if needed)\n",
    "    features = Features(remainingData)\n",
    "    \n",
    "    data.append({\"title\": title, \"price\": price, \"model\": model, \"features\": features})\n",
    "\n",
    "data"
   ]
  },
  {
   "cell_type": "code",
   "execution_count": null,
   "id": "5506adab-5ef2-4e15-a190-c5a70d6a40b3",
   "metadata": {},
   "outputs": [
    {
     "name": "stdout",
     "output_type": "stream",
     "text": [
      "Data has been written to ..\\data\\scraped\\galaxy.csv\n"
     ]
    }
   ],
   "source": [
    "import os\n",
    "import csv\n",
    "\n",
    "folder_path = os.path.join('..', 'data', 'scraped') \n",
    "\n",
    "file_path = os.path.join(folder_path, 'galaxy.csv')\n",
    "\n",
    "if not os.path.exists(folder_path):\n",
    "    os.makedirs(folder_path)  # This ensures the directory exists, though you said it's already made\n",
    "\n",
    "# header (column names for the CSV file)\n",
    "header = [\"title\", \"price\", \"model\", \"features\"]\n",
    "\n",
    "with open(file_path, 'w', newline='', encoding='utf-8') as file:\n",
    "    writer = csv.DictWriter(file, fieldnames=header)\n",
    "    \n",
    "    # Write the header to the CSV file\n",
    "    writer.writeheader()\n",
    "    \n",
    "    for card_data in data:\n",
    "        writer.writerow(card_data)\n",
    "\n",
    "print(f\"Data has been written to {file_path}\")\n"
   ]
  }
 ],
 "metadata": {
  "kernelspec": {
   "display_name": "Python 3 (ipykernel)",
   "language": "python",
   "name": "python3"
  },
  "language_info": {
   "codemirror_mode": {
    "name": "ipython",
    "version": 3
   },
   "file_extension": ".py",
   "mimetype": "text/x-python",
   "name": "python",
   "nbconvert_exporter": "python",
   "pygments_lexer": "ipython3",
   "version": "3.12.7"
  }
 },
 "nbformat": 4,
 "nbformat_minor": 5
}
